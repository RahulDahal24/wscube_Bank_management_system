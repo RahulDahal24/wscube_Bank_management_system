{
 "cells": [
  {
   "cell_type": "code",
   "execution_count": 1,
   "id": "5e98fb23-2a52-41cd-a4c3-54a58136de3f",
   "metadata": {},
   "outputs": [
    {
     "name": "stdout",
     "output_type": "stream",
     "text": [
      "==============================\n",
      "~~~~~~~~ Welcome to Wscube Bank ~~~~~~~~\n",
      "==============================\n",
      "\n",
      "How can we help you today?\n",
      "\n",
      "    1. Open an Account\n",
      "    2. View Account Details\n",
      "    3. Perform Transactions (Withdraw/Deposit/Transfer)\n",
      "    4. View Transaction History\n",
      "    5. Exit\n",
      "    \n",
      "==============================\n"
     ]
    },
    {
     "name": "stdin",
     "output_type": "stream",
     "text": [
      "Enter your choice (1 to 5):  1\n"
     ]
    },
    {
     "name": "stdout",
     "output_type": "stream",
     "text": [
      "==============================\n",
      "\n",
      "--- Open a New Account ---\n"
     ]
    },
    {
     "name": "stdin",
     "output_type": "stream",
     "text": [
      "Enter first name:  rahul\n",
      "Enter last name:  dahal\n",
      "Enter PAN card number:  aaaa1111\n",
      "Which type of account would you like to open? (current/savings):  savings\n",
      "How much amount do you want to deposit?  7000\n"
     ]
    },
    {
     "name": "stdout",
     "output_type": "stream",
     "text": [
      "\n",
      "--- Account Created Successfully! ---\n",
      "Account Number: 977220126939\n",
      "Account Type: savings\n",
      "Initial Balance: Rs 7000\n",
      "Username: rahul7\n",
      "Password: 4647\n",
      "==============================\n"
     ]
    },
    {
     "name": "stdin",
     "output_type": "stream",
     "text": [
      "Would you like to perform another operation? (yes/no):  yes\n"
     ]
    },
    {
     "name": "stdout",
     "output_type": "stream",
     "text": [
      "==============================\n",
      "~~~~~~~~ Welcome to Wscube Bank ~~~~~~~~\n",
      "==============================\n",
      "\n",
      "How can we help you today?\n",
      "\n",
      "    1. Open an Account\n",
      "    2. View Account Details\n",
      "    3. Perform Transactions (Withdraw/Deposit/Transfer)\n",
      "    4. View Transaction History\n",
      "    5. Exit\n",
      "    \n",
      "==============================\n"
     ]
    },
    {
     "name": "stdin",
     "output_type": "stream",
     "text": [
      "Enter your choice (1 to 5):  2\n"
     ]
    },
    {
     "name": "stdout",
     "output_type": "stream",
     "text": [
      "==============================\n",
      "\n",
      "--- View Account Details ---\n"
     ]
    },
    {
     "name": "stdin",
     "output_type": "stream",
     "text": [
      "Enter your username:  rahul7\n",
      "Enter your password:  4647\n",
      "Enter your PAN card number:  aaaa1111\n"
     ]
    },
    {
     "name": "stdout",
     "output_type": "stream",
     "text": [
      "\n",
      ">>> Account Details <<<\n",
      "Account Number: 977220126939\n",
      "Account Holder Name: rahul dahal\n",
      "Account Type: savings\n",
      "Total Balance: Rs 7000\n",
      "==============================\n",
      "==============================\n",
      "~~~~~~~~ Welcome to Wscube Bank ~~~~~~~~\n",
      "==============================\n",
      "\n",
      "How can we help you today?\n",
      "\n",
      "    1. Open an Account\n",
      "    2. View Account Details\n",
      "    3. Perform Transactions (Withdraw/Deposit/Transfer)\n",
      "    4. View Transaction History\n",
      "    5. Exit\n",
      "    \n",
      "==============================\n"
     ]
    },
    {
     "name": "stdin",
     "output_type": "stream",
     "text": [
      "Enter your choice (1 to 5):  3\n"
     ]
    },
    {
     "name": "stdout",
     "output_type": "stream",
     "text": [
      "==============================\n",
      "\n",
      "--- Perform Transactions ---\n",
      "\n",
      "        1. Deposit\n",
      "        2. Withdraw\n",
      "        3. Transfer\n",
      "        \n"
     ]
    },
    {
     "name": "stdin",
     "output_type": "stream",
     "text": [
      "Enter transaction type (1-3):  1\n"
     ]
    },
    {
     "name": "stdout",
     "output_type": "stream",
     "text": [
      "==============================\n"
     ]
    },
    {
     "name": "stdin",
     "output_type": "stream",
     "text": [
      "Enter the amount to deposit:  5000\n"
     ]
    },
    {
     "name": "stdout",
     "output_type": "stream",
     "text": [
      "\n",
      ">>> Deposit Successful!\n",
      "Your current balance is: Rs 12000.0\n",
      "==============================\n",
      "==============================\n",
      "~~~~~~~~ Welcome to Wscube Bank ~~~~~~~~\n",
      "==============================\n",
      "\n",
      "How can we help you today?\n",
      "\n",
      "    1. Open an Account\n",
      "    2. View Account Details\n",
      "    3. Perform Transactions (Withdraw/Deposit/Transfer)\n",
      "    4. View Transaction History\n",
      "    5. Exit\n",
      "    \n",
      "==============================\n"
     ]
    },
    {
     "name": "stdin",
     "output_type": "stream",
     "text": [
      "Enter your choice (1 to 5):  3\n"
     ]
    },
    {
     "name": "stdout",
     "output_type": "stream",
     "text": [
      "==============================\n",
      "\n",
      "--- Perform Transactions ---\n",
      "\n",
      "        1. Deposit\n",
      "        2. Withdraw\n",
      "        3. Transfer\n",
      "        \n"
     ]
    },
    {
     "name": "stdin",
     "output_type": "stream",
     "text": [
      "Enter transaction type (1-3):  2\n"
     ]
    },
    {
     "name": "stdout",
     "output_type": "stream",
     "text": [
      "==============================\n"
     ]
    },
    {
     "name": "stdin",
     "output_type": "stream",
     "text": [
      "Enter the amount to withdraw:  1000\n"
     ]
    },
    {
     "name": "stdout",
     "output_type": "stream",
     "text": [
      "\n",
      ">>> Withdrawal Successful!\n",
      "Your remaining balance is: Rs 11000.0\n",
      "==============================\n",
      "==============================\n",
      "~~~~~~~~ Welcome to Wscube Bank ~~~~~~~~\n",
      "==============================\n",
      "\n",
      "How can we help you today?\n",
      "\n",
      "    1. Open an Account\n",
      "    2. View Account Details\n",
      "    3. Perform Transactions (Withdraw/Deposit/Transfer)\n",
      "    4. View Transaction History\n",
      "    5. Exit\n",
      "    \n",
      "==============================\n"
     ]
    },
    {
     "name": "stdin",
     "output_type": "stream",
     "text": [
      "Enter your choice (1 to 5):  4\n"
     ]
    },
    {
     "name": "stdout",
     "output_type": "stream",
     "text": [
      "==============================\n",
      "\n",
      "--- View Transaction History ---\n"
     ]
    },
    {
     "name": "stdin",
     "output_type": "stream",
     "text": [
      "Enter your username:  rahul7\n",
      "Enter your password:  4647\n",
      "Enter your PAN card number:  aaaa1111\n"
     ]
    },
    {
     "name": "stdout",
     "output_type": "stream",
     "text": [
      "\n",
      ">>> Transaction History <<<\n",
      "Time Stamp                 | Type | Amount | Balance\n",
      "--------------------------------------------------\n",
      "2024-11-25 13:26:30.216355 | 1 | Rs 5000.0 | Rs 12000.0\n",
      "2024-11-25 13:27:07.776189 | 2 | Rs 1000.0 | Rs 11000.0\n",
      "==============================\n",
      "==============================\n",
      "~~~~~~~~ Welcome to Wscube Bank ~~~~~~~~\n",
      "==============================\n",
      "\n",
      "How can we help you today?\n",
      "\n",
      "    1. Open an Account\n",
      "    2. View Account Details\n",
      "    3. Perform Transactions (Withdraw/Deposit/Transfer)\n",
      "    4. View Transaction History\n",
      "    5. Exit\n",
      "    \n",
      "==============================\n"
     ]
    },
    {
     "name": "stdin",
     "output_type": "stream",
     "text": [
      "Enter your choice (1 to 5):  5\n"
     ]
    },
    {
     "name": "stdout",
     "output_type": "stream",
     "text": [
      "==============================\n",
      "\n",
      "Thank you for visiting Wscube Bank!\n"
     ]
    },
    {
     "name": "stdin",
     "output_type": "stream",
     "text": [
      "Do you want to perform another operation? (yes/no):  no\n"
     ]
    }
   ],
   "source": [
    "# Initialize global dictionaries to store user credentials, account details, and transaction history\n",
    "credentials = {}\n",
    "users_db = {}\n",
    "passbook = {}\n",
    "nested_t = {}\n",
    "\n",
    "#modules used in the code\n",
    "import datetime\n",
    "import pickle\n",
    "import random\n",
    "\n",
    "# Load existing data if it exists\n",
    "try:\n",
    "    with open('bank_data.pkl', 'rb') as f:\n",
    "        credentials, users_db, passbook = pickle.load(f)\n",
    "except FileNotFoundError:\n",
    "    print(\"No previous data found, starting fresh.\")\n",
    "\n",
    "while True:\n",
    "    # Welcome Message\n",
    "    print(\"=\" * 30)\n",
    "    print(\"~\" * 8, \"Welcome to Wscube Bank\", \"~\" * 8)\n",
    "    print(\"=\" * 30)\n",
    "    print(\"\\nHow can we help you today?\")\n",
    "    print(\"\"\"\n",
    "    1. Open an Account\n",
    "    2. View Account Details\n",
    "    3. Perform Transactions (Withdraw/Deposit/Transfer)\n",
    "    4. View Transaction History\n",
    "    5. Exit\n",
    "    \"\"\")\n",
    "    print(\"=\" * 30)\n",
    "\n",
    "    # User choice for banking operation\n",
    "    choice = int(input(\"Enter your choice (1 to 5): \"))\n",
    "    print(\"=\" * 30)\n",
    "\n",
    "    # Option 1: Open an Account\n",
    "    if choice == 1:\n",
    "        print(\"\\n--- Open a New Account ---\")\n",
    "        fname = input(\"Enter first name: \")\n",
    "        lname = input(\"Enter last name: \")\n",
    "        pancard = input(\"Enter PAN card number: \")\n",
    "\n",
    "        # Check if account already exists\n",
    "        if pancard in users_db.keys():\n",
    "            print(\"\\n>>> Your account already exists! Please try again.\")\n",
    "            print(\"=\" * 30)\n",
    "            break\n",
    "\n",
    "        # Generate a random 12-digit account number using your original logic\n",
    "        account_number = \"\"\n",
    "        for i in range(1, 13):\n",
    "            a = random.randint(0, 9)\n",
    "            account_number = account_number + str(a)\n",
    "\n",
    "        # Input account type and initial deposit\n",
    "        account_type = input(\"Which type of account would you like to open? (current/savings): \")\n",
    "        initial_balance = int(input(\"How much amount do you want to deposit? \"))\n",
    "\n",
    "        # Generate username\n",
    "        user_name = fname\n",
    "        for i in range(2):\n",
    "            a = random.randint(0, 9)\n",
    "            user_name = fname + str(a)\n",
    "\n",
    "        # Generate password\n",
    "        password = \"\"\n",
    "        for i in range(4):\n",
    "            a = random.randint(0, 9)\n",
    "            password = password + str(a)\n",
    "\n",
    "        # Store credentials and account details in dictionaries\n",
    "        credentials[user_name] = password\n",
    "        users_db[pancard] = [fname, lname, account_number, account_type, initial_balance]\n",
    "\n",
    "        # Display account details to the user\n",
    "        print(\"\\n--- Account Created Successfully! ---\")\n",
    "        print(f\"Account Number: {account_number}\")\n",
    "        print(f\"Account Type: {account_type}\")\n",
    "        print(f\"Initial Balance: Rs {initial_balance}\")\n",
    "        print(f\"Username: {user_name}\")\n",
    "        print(f\"Password: {password}\")\n",
    "        print(\"=\" * 30)\n",
    "\n",
    "        # Save data to file\n",
    "        with open('bank_data.pkl', 'wb') as f:\n",
    "            pickle.dump((credentials, users_db, passbook), f)\n",
    "\n",
    "        next_choice = input(\"Would you like to perform another operation? (yes/no): \")\n",
    "        if next_choice.lower() == \"no\":\n",
    "            break\n",
    "\n",
    "    # Option 2: View Account Details\n",
    "    elif choice == 2:\n",
    "        print(\"\\n--- View Account Details ---\")\n",
    "        un = input(\"Enter your username: \")\n",
    "        ps = input(\"Enter your password: \")\n",
    "        pc = input(\"Enter your PAN card number: \")\n",
    "\n",
    "        # Check credentials and display account details\n",
    "        if un in credentials.keys() and ps == credentials[un] and pc in users_db.keys():\n",
    "            print(\"\\n>>> Account Details <<<\")\n",
    "            print(f\"Account Number: {users_db[pc][2]}\")\n",
    "            print(f\"Account Holder Name: {users_db[pc][0]} {users_db[pc][1]}\")\n",
    "            print(f\"Account Type: {users_db[pc][3]}\")\n",
    "            print(f\"Total Balance: Rs {users_db[pc][-1]}\")\n",
    "        else:\n",
    "            print(\"\\n>>> This account does not exist. Please try again.\")\n",
    "        print(\"=\" * 30)\n",
    "\n",
    "    # Option 3: Perform Transactions\n",
    "    elif choice == 3:\n",
    "        print(\"\\n--- Perform Transactions ---\")\n",
    "        print(\"\"\"\n",
    "        1. Deposit\n",
    "        2. Withdraw\n",
    "        3. Transfer\n",
    "        \"\"\")\n",
    "        t_type = int(input(\"Enter transaction type (1-3): \"))\n",
    "        print(\"=\" * 30)\n",
    "\n",
    "        if t_type == 1:\n",
    "            # Deposit Transaction\n",
    "            t_amount = float(input(\"Enter the amount to deposit: \"))\n",
    "            users_db[pancard][-1] += t_amount\n",
    "            timestamp = datetime.datetime.now()\n",
    "            print(\"\\n>>> Deposit Successful!\")\n",
    "            print(f\"Your current balance is: Rs {users_db[pancard][-1]}\")\n",
    "        elif t_type == 2:\n",
    "            # Withdraw Transaction\n",
    "            t_amount = float(input(\"Enter the amount to withdraw: \"))\n",
    "            if t_amount > users_db[pancard][-1]:\n",
    "                print(\"\\n>>> Insufficient balance! Withdrawal failed.\")\n",
    "            else:\n",
    "                users_db[pancard][-1] -= t_amount\n",
    "                timestamp = datetime.datetime.now()\n",
    "                print(\"\\n>>> Withdrawal Successful!\")\n",
    "                print(f\"Your remaining balance is: Rs {users_db[pancard][-1]}\")\n",
    "        elif t_type == 3:\n",
    "            # Transfer Transaction\n",
    "            r_pancard = input(\"Enter the receiver's PAN card number: \")\n",
    "            t_amount = int(input(\"Enter the amount to transfer: \"))\n",
    "            users_db[pancard][-1] -= t_amount\n",
    "            timestamp = datetime.datetime.now()\n",
    "            print(\"\\n>>> Transfer Successful!\")\n",
    "            print(f\"Your remaining balance is: Rs {users_db[pancard][-1]}\")\n",
    "            if r_pancard in users_db.keys():\n",
    "                users_db[r_pancard][-1] += t_amount\n",
    "\n",
    "        # Record transaction details\n",
    "        nested_t[timestamp] = [t_type, t_amount, users_db[pancard][-1]]\n",
    "        passbook[pancard] = nested_t\n",
    "        print(\"=\" * 30)\n",
    "\n",
    "        # Save data to file\n",
    "        with open('bank_data.pkl', 'wb') as f:\n",
    "            pickle.dump((credentials, users_db, passbook), f)\n",
    "\n",
    "    # Option 4: View Transaction History\n",
    "    elif choice == 4:\n",
    "        print(\"\\n--- View Transaction History ---\")\n",
    "        un = input(\"Enter your username: \")\n",
    "        ps = input(\"Enter your password: \")\n",
    "        pc = input(\"Enter your PAN card number: \")\n",
    "\n",
    "        if un in credentials.keys() and ps == credentials[un] and pc in users_db.keys():\n",
    "            print(\"\\n>>> Transaction History <<<\")\n",
    "            print(\"Time Stamp                 | Type | Amount | Balance\")\n",
    "            print(\"-\" * 50)\n",
    "            for i, j in passbook.items():\n",
    "                for k, l in j.items():\n",
    "                    print(f\"{k} | {l[0]} | Rs {l[1]} | Rs {l[2]}\")\n",
    "        else:\n",
    "            print(\"\\n>>> Unable to retrieve transaction history. Check your credentials.\")\n",
    "        print(\"=\" * 30)\n",
    "\n",
    "    # Option 5: Exit\n",
    "    elif choice == 5:\n",
    "        print(\"\\nThank you for visiting Wscube Bank!\")\n",
    "        next_choice = input(\"Do you want to perform another operation? (yes/no): \")\n",
    "        if next_choice.lower() == \"no\":\n",
    "            break\n",
    "        print(\"=\" * 30)\n"
   ]
  }
 ],
 "metadata": {
  "kernelspec": {
   "display_name": "Python 3 (ipykernel)",
   "language": "python",
   "name": "python3"
  },
  "language_info": {
   "codemirror_mode": {
    "name": "ipython",
    "version": 3
   },
   "file_extension": ".py",
   "mimetype": "text/x-python",
   "name": "python",
   "nbconvert_exporter": "python",
   "pygments_lexer": "ipython3",
   "version": "3.13.0"
  }
 },
 "nbformat": 4,
 "nbformat_minor": 5
}
